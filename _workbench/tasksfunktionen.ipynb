{
 "cells": [
  {
   "cell_type": "code",
   "execution_count": 1,
   "id": "56ad1570",
   "metadata": {},
   "outputs": [],
   "source": [
    "import psycopg2\n",
    "import pandas as pd"
   ]
  },
  {
   "cell_type": "code",
   "execution_count": 2,
   "id": "18150f36",
   "metadata": {},
   "outputs": [
    {
     "data": {
      "text/plain": [
       "<connection object at 0x000001F923589030; dsn: 'user=postgres password=xxx dbname=TuDu host=localhost port=5433', closed: 0>"
      ]
     },
     "execution_count": 2,
     "metadata": {},
     "output_type": "execute_result"
    }
   ],
   "source": [
    "connection = psycopg2.connect(\n",
    "    host        = 'localhost',\n",
    "    port        = '5433',\n",
    "    user        = 'postgres',\n",
    "    password    = 'postgres',\n",
    "    database    = 'TuDu'\n",
    ")\n",
    "\n",
    "connection"
   ]
  },
  {
   "cell_type": "code",
   "execution_count": 3,
   "id": "5622d2e3",
   "metadata": {},
   "outputs": [],
   "source": [
    "cursor = connection.cursor()"
   ]
  },
  {
   "cell_type": "code",
   "execution_count": null,
   "id": "6aaeb697",
   "metadata": {},
   "outputs": [],
   "source": [
    "# def get_connection() / init_db"
   ]
  },
  {
   "cell_type": "code",
   "execution_count": 31,
   "id": "77cd8ead",
   "metadata": {},
   "outputs": [
    {
     "name": "stderr",
     "output_type": "stream",
     "text": [
      "C:\\Users\\Admin\\AppData\\Local\\Temp\\ipykernel_19384\\3622710056.py:3: UserWarning: pandas only supports SQLAlchemy connectable (engine/connection) or database string URI or sqlite3 DBAPI2 connection. Other DBAPI2 objects are not tested. Please consider using SQLAlchemy.\n",
      "  tasks = pd.read_sql(query, connection)\n"
     ]
    },
    {
     "data": {
      "text/html": [
       "<div>\n",
       "<style scoped>\n",
       "    .dataframe tbody tr th:only-of-type {\n",
       "        vertical-align: middle;\n",
       "    }\n",
       "\n",
       "    .dataframe tbody tr th {\n",
       "        vertical-align: top;\n",
       "    }\n",
       "\n",
       "    .dataframe thead th {\n",
       "        text-align: right;\n",
       "    }\n",
       "</style>\n",
       "<table border=\"1\" class=\"dataframe\">\n",
       "  <thead>\n",
       "    <tr style=\"text-align: right;\">\n",
       "      <th></th>\n",
       "      <th>task_name</th>\n",
       "    </tr>\n",
       "  </thead>\n",
       "  <tbody>\n",
       "    <tr>\n",
       "      <th>0</th>\n",
       "      <td>Einkaufen</td>\n",
       "    </tr>\n",
       "    <tr>\n",
       "      <th>1</th>\n",
       "      <td>Praxisprojekt SQL</td>\n",
       "    </tr>\n",
       "    <tr>\n",
       "      <th>2</th>\n",
       "      <td>Trinken</td>\n",
       "    </tr>\n",
       "    <tr>\n",
       "      <th>3</th>\n",
       "      <td>Steuererklärung</td>\n",
       "    </tr>\n",
       "    <tr>\n",
       "      <th>4</th>\n",
       "      <td>Kita Termin vereinbaren</td>\n",
       "    </tr>\n",
       "  </tbody>\n",
       "</table>\n",
       "</div>"
      ],
      "text/plain": [
       "                 task_name\n",
       "0                Einkaufen\n",
       "1        Praxisprojekt SQL\n",
       "2                  Trinken\n",
       "3          Steuererklärung\n",
       "4  Kita Termin vereinbaren"
      ]
     },
     "execution_count": 31,
     "metadata": {},
     "output_type": "execute_result"
    }
   ],
   "source": [
    "def view_tasks(user_id):   \n",
    "    query = f'''SELECT task_name FROM tasks WHERE user_id = {user_id}'''\n",
    "    tasks = pd.read_sql(query, connection)\n",
    "    return tasks\n",
    "\n",
    "view_tasks(4)"
   ]
  },
  {
   "cell_type": "code",
   "execution_count": 23,
   "id": "545d2314",
   "metadata": {},
   "outputs": [
    {
     "data": {
      "text/plain": [
       "[1, 2, 3, 4, 5]"
      ]
     },
     "execution_count": 23,
     "metadata": {},
     "output_type": "execute_result"
    }
   ],
   "source": [
    "def view_tasks_clean(user_id):\n",
    "    query = f'SELECT * FROM tasks'\n",
    "    cursor.execute(query, (user_id,))\n",
    "    tasks = [task[0] for task in cursor.fetchall()]\n",
    "    return tasks\n",
    "\n",
    "view_tasks_clean(4)\n"
   ]
  },
  {
   "cell_type": "code",
   "execution_count": 4,
   "id": "f07a6857",
   "metadata": {},
   "outputs": [
    {
     "name": "stdout",
     "output_type": "stream",
     "text": [
      "                 task_name\n",
      "0                Einkaufen\n",
      "1        Praxisprojekt SQL\n",
      "2                  Trinken\n",
      "3          Steuererklärung\n",
      "4  Kita Termin vereinbaren\n"
     ]
    }
   ],
   "source": [
    "def view_tasks(user_id):   \n",
    "    query = f'SELECT task_name FROM tasks WHERE user_id = %s'\n",
    "    cursor.execute(query, (user_id,))\n",
    "    columns = [desc[0] for desc in cursor.description]\n",
    "    tasks = cursor.fetchall()\n",
    "    return pd.DataFrame(tasks, columns=columns)\n",
    "\n",
    "\n",
    "print(view_tasks(4))    "
   ]
  },
  {
   "cell_type": "code",
   "execution_count": 34,
   "id": "88c2d4d7",
   "metadata": {},
   "outputs": [
    {
     "data": {
      "text/plain": [
       "[(1, 'Einkaufen', False),\n",
       " (2, 'Praxisprojekt SQL', False),\n",
       " (3, 'Trinken', False),\n",
       " (4, 'Steuererklärung', False),\n",
       " (5, 'Kita Termin vereinbaren', False)]"
      ]
     },
     "execution_count": 34,
     "metadata": {},
     "output_type": "execute_result"
    }
   ],
   "source": [
    "def view_tasks(user_id):\n",
    "    query = 'SELECT task_id, task_name, completed FROM tasks WHERE user_id = %s'\n",
    "    cursor.execute(query, (user_id,))\n",
    "    tasks = cursor.fetchall()\n",
    "    return tasks \n",
    "\n",
    "tasks = view_tasks(4)\n",
    "tasks\n"
   ]
  },
  {
   "cell_type": "code",
   "execution_count": 35,
   "id": "137a0339",
   "metadata": {},
   "outputs": [],
   "source": [
    "def update_task_status(task_name):\n",
    "    cursor.execute('UPDATE tasks SET completed = True WHERE task_id = %s',(task_name,))\n",
    "    connection.commit()"
   ]
  }
 ],
 "metadata": {
  "kernelspec": {
   "display_name": "Python 3",
   "language": "python",
   "name": "python3"
  },
  "language_info": {
   "codemirror_mode": {
    "name": "ipython",
    "version": 3
   },
   "file_extension": ".py",
   "mimetype": "text/x-python",
   "name": "python",
   "nbconvert_exporter": "python",
   "pygments_lexer": "ipython3",
   "version": "3.13.1"
  }
 },
 "nbformat": 4,
 "nbformat_minor": 5
}
