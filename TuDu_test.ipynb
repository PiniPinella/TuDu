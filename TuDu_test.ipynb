{
 "cells": [
  {
   "cell_type": "markdown",
   "id": "0f676d06",
   "metadata": {},
   "source": [
    "# TuDu Praxisprojekt"
   ]
  },
  {
   "cell_type": "markdown",
   "id": "12acdf28",
   "metadata": {},
   "source": [
    "Github Befehle im Terminal:"
   ]
  },
  {
   "cell_type": "markdown",
   "id": "a7c9fcde",
   "metadata": {},
   "source": [
    "git add .\n",
    "\n",
    "git commit -m Nachricht\n",
    "\n",
    "git push\n",
    "\n",
    "git pull"
   ]
  },
  {
   "cell_type": "code",
   "execution_count": null,
   "id": "697a9c56",
   "metadata": {},
   "outputs": [],
   "source": []
  },
  {
   "cell_type": "code",
   "execution_count": null,
   "id": "fd50573f",
   "metadata": {},
   "outputs": [],
   "source": []
  },
  {
   "cell_type": "code",
   "execution_count": null,
   "id": "e3af3907",
   "metadata": {},
   "outputs": [],
   "source": []
  },
  {
   "cell_type": "code",
   "execution_count": null,
   "id": "d63e3c67",
   "metadata": {},
   "outputs": [],
   "source": []
  }
 ],
 "metadata": {
  "kernelspec": {
   "display_name": "Python 3",
   "language": "python",
   "name": "python3"
  },
  "language_info": {
   "codemirror_mode": {
    "name": "ipython",
    "version": 3
   },
   "file_extension": ".py",
   "mimetype": "text/x-python",
   "name": "python",
   "nbconvert_exporter": "python",
   "pygments_lexer": "ipython3",
   "version": "3.13.1"
  }
 },
 "nbformat": 4,
 "nbformat_minor": 5
}
